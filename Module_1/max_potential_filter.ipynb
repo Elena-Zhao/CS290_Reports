{
 "cells": [
  {
   "cell_type": "code",
   "execution_count": 2,
   "metadata": {
    "collapsed": true
   },
   "outputs": [],
   "source": [
    "%matplotlib inline\n",
    "import time\n",
    "import numpy as np\n",
    "import matplotlib.pyplot as plt\n",
    "import networkx as nx\n",
    "import json\n",
    "from networkx.readwrite import json_graph\n"
   ]
  },
  {
   "cell_type": "code",
   "execution_count": 3,
   "metadata": {
    "collapsed": false
   },
   "outputs": [],
   "source": [
    "import findspark\n",
    "findspark.find()\n",
    "findspark.init(edit_profile=True)\n",
    "import pyspark\n",
    "sc = pyspark.SparkContext()"
   ]
  },
  {
   "cell_type": "code",
   "execution_count": 3,
   "metadata": {
    "collapsed": false
   },
   "outputs": [],
   "source": [
    "with open(\"../../graph/nc_full.json\", \"r\") as graph_data:\n",
    "    nc_full_data = json.load(graph_data)\n",
    "    nc_full_digraph = json_graph.node_link_graph(nc_full_data)\n",
    "    "
   ]
  },
  {
   "cell_type": "code",
   "execution_count": 6,
   "metadata": {
    "collapsed": false
   },
   "outputs": [],
   "source": [
    "with open(\"../../graph/nc_mini.json\", \"r\") as graph_data:\n",
    "    nc_mini_data = json.load(graph_data)\n",
    "    nc_mini_digraph = json_graph.node_link_graph(nc_mini_data)\n",
    "    "
   ]
  },
  {
   "cell_type": "code",
   "execution_count": 4,
   "metadata": {
    "collapsed": true
   },
   "outputs": [],
   "source": [
    "nc_full_empty_nodes = [i for i in nc_full_digraph.nodes() if not nc_full_digraph.succ[i]]"
   ]
  },
  {
   "cell_type": "code",
   "execution_count": 19,
   "metadata": {
    "collapsed": true
   },
   "outputs": [],
   "source": [
    "nc_full_N_width_nodes = [i for i in nc_full_digraph.nodes() if len(nc_full_digraph.succ[i]) >= 50]"
   ]
  },
  {
   "cell_type": "code",
   "execution_count": 9,
   "metadata": {
    "collapsed": false
   },
   "outputs": [],
   "source": [
    "nc_mini_N_width_nodes = [i for i in nc_mini_digraph.nodes() if len(nc_mini_digraph.succ[i]) >= 10]"
   ]
  },
  {
   "cell_type": "code",
   "execution_count": 7,
   "metadata": {
    "collapsed": false
   },
   "outputs": [],
   "source": [
    "# nc_full_N_depth_nodes = [i for i in nc_full_digraph.nodes() if len(nx.dfs_successors(nc_full_digraph, i)) >= 5]"
   ]
  },
  {
   "cell_type": "code",
   "execution_count": null,
   "metadata": {
    "collapsed": true
   },
   "outputs": [],
   "source": [
    "nc_full_N_depth_width_nodes = [i for i in nc_full_digraph.nodes() \n",
    "                          if len(nx.dfs_successors(nc_full_digraph, i)) >= 5 & len(nc_full_digraph.succ[i]) >= 200]"
   ]
  },
  {
   "cell_type": "code",
   "execution_count": 22,
   "metadata": {
    "collapsed": false
   },
   "outputs": [],
   "source": [
    "# len(nc_full_N_depth_nodes)"
   ]
  },
  {
   "cell_type": "code",
   "execution_count": 21,
   "metadata": {
    "collapsed": false
   },
   "outputs": [
    {
     "data": {
      "text/plain": [
       "212"
      ]
     },
     "execution_count": 21,
     "metadata": {},
     "output_type": "execute_result"
    }
   ],
   "source": [
    "len(nc_full_N_width_nodes)"
   ]
  },
  {
   "cell_type": "code",
   "execution_count": 10,
   "metadata": {
    "collapsed": false
   },
   "outputs": [
    {
     "data": {
      "text/plain": [
       "32"
      ]
     },
     "execution_count": 10,
     "metadata": {},
     "output_type": "execute_result"
    }
   ],
   "source": [
    "len(nc_mini_N_width_nodes)"
   ]
  },
  {
   "cell_type": "code",
   "execution_count": 14,
   "metadata": {
    "collapsed": false
   },
   "outputs": [
    {
     "name": "stdout",
     "output_type": "stream",
     "text": [
      "PpkKVodWC0sdn74TbHQLzA : 12\n",
      "emoQY8neOSJm-xwqh4xVfQ : 17\n",
      "glzRad3_l42hALvjB9p97w : 12\n",
      "M9H6p4hm2utu1G0ipV80Ug : 10\n",
      "W6LTsXcY1R76M9EdeN0G6A : 18\n",
      "XZuMpc6E9RqZX4HXtmlr-g : 9\n",
      "DK2gGNdN3ihOu_uwt2AgLg : 13\n",
      "A6bPFcUjuuayRBoyybedDQ : 20\n",
      "M-TwsqjrGVH9-qyw2KcvdQ : 25\n",
      "Kybm9SJyOfEgDAXFUPRdCQ : 12\n",
      "NzWLMPvbEval0OVg_YDn4g : 27\n",
      "-_1ctLaz3jhPYc12hKXsEQ : 22\n",
      "1K50PvXa6l5PBXZXhzkB-g : 10\n",
      "whKpnugMnWTz3UjlrN71yg : 14\n",
      "do-fO-EruYVP_FQPMNWmZg : 21\n",
      "Y--yRCncNlQCNULP8I5h6Q : 12\n",
      "7ewE_dDxjXNppOj0EhhMIQ : 15\n",
      "3GteArKIVRlJZjjRqqwgaQ : 20\n",
      "LP0bl3GKToABt3lnpSvA2w : 22\n",
      "tm_HvdZmUMGht1-xjGQF7Q : 11\n",
      "eFxX1tSNLmVkAP9kNv2--Q : 19\n",
      "aZjcmboRYOYyfmD6AdLesQ : 12\n",
      "s9I4KMcrHKki44g_eTrYqQ : 23\n",
      "ED6n40WmZJm0AvsKkG7iaw : 19\n",
      "Q9xJQu-9oCFZozVBjZDETw : 15\n",
      "Ul93T_U5jDh1FIIpiiTxuw : 13\n",
      "VhI6xyylcAxi0wOy2HOX3w : 24\n",
      "ts7EG6Zv2zdMDg29nyqGfA : 28\n",
      "cZjX4HsWB8mTLHI4uhbB-g : 10\n",
      "tFLi8-M6MOOrY5CsvWHRMA : 14\n",
      "lpZtfD-vCqUER1yGKEvUPw : 23\n",
      "gD2FceWxl711U2IJokXBAQ : 8\n",
      "max potential node set [(u'ts7EG6Zv2zdMDg29nyqGfA', 28), (u'NzWLMPvbEval0OVg_YDn4g', 27), (u'M-TwsqjrGVH9-qyw2KcvdQ', 25)]\n"
     ]
    }
   ],
   "source": [
    "start = time.time()\n",
    "mini_influence_list = {}\n",
    "for i in nc_mini_N_width_nodes:\n",
    "    mini_influence_list[i] = influence_function(100, [i], 16)\n",
    "    print i, ':', mini_influence_list[i]\n",
    "sorted_max_potential_nodes = sorted(mini_influence_list.items(), key=lambda x: x[1], reverse=True )\n",
    "\n",
    "print 'max potential node set', sorted_max_potential_nodes[:3]"
   ]
  },
  {
   "cell_type": "code",
   "execution_count": 15,
   "metadata": {
    "collapsed": false
   },
   "outputs": [
    {
     "data": {
      "text/plain": [
       "42"
      ]
     },
     "execution_count": 15,
     "metadata": {},
     "output_type": "execute_result"
    }
   ],
   "source": [
    "influence_function(100, [u'ts7EG6Zv2zdMDg29nyqGfA', u'NzWLMPvbEval0OVg_YDn4g', u'M-TwsqjrGVH9-qyw2KcvdQ'], 16)"
   ]
  },
  {
   "cell_type": "code",
   "execution_count": null,
   "metadata": {
    "collapsed": true
   },
   "outputs": [],
   "source": [
    "len(nc_full_N_depth_width_nodes)"
   ]
  },
  {
   "cell_type": "code",
   "execution_count": 13,
   "metadata": {
    "collapsed": false,
    "scrolled": true
   },
   "outputs": [
    {
     "ename": "NameError",
     "evalue": "name 'nc_full_N_width_nodes' is not defined",
     "output_type": "error",
     "traceback": [
      "\u001b[0;31m---------------------------------------------------------------------------\u001b[0m",
      "\u001b[0;31mNameError\u001b[0m                                 Traceback (most recent call last)",
      "\u001b[0;32m<ipython-input-13-83af6bdac405>\u001b[0m in \u001b[0;36m<module>\u001b[0;34m()\u001b[0m\n\u001b[1;32m      1\u001b[0m \u001b[0mstart\u001b[0m \u001b[0;34m=\u001b[0m \u001b[0mtime\u001b[0m\u001b[0;34m.\u001b[0m\u001b[0mtime\u001b[0m\u001b[0;34m(\u001b[0m\u001b[0;34m)\u001b[0m\u001b[0;34m\u001b[0m\u001b[0m\n\u001b[1;32m      2\u001b[0m \u001b[0minfluence_list\u001b[0m \u001b[0;34m=\u001b[0m \u001b[0;34m{\u001b[0m\u001b[0;34m}\u001b[0m\u001b[0;34m\u001b[0m\u001b[0m\n\u001b[0;32m----> 3\u001b[0;31m \u001b[0;32mfor\u001b[0m \u001b[0mi\u001b[0m \u001b[0;32min\u001b[0m \u001b[0mnc_full_N_width_nodes\u001b[0m\u001b[0;34m:\u001b[0m\u001b[0;34m\u001b[0m\u001b[0m\n\u001b[0m\u001b[1;32m      4\u001b[0m     \u001b[0minfluence_list\u001b[0m\u001b[0;34m[\u001b[0m\u001b[0mi\u001b[0m\u001b[0;34m]\u001b[0m \u001b[0;34m=\u001b[0m \u001b[0minfluence_function\u001b[0m\u001b[0;34m(\u001b[0m\u001b[0;36m100\u001b[0m\u001b[0;34m,\u001b[0m \u001b[0;34m[\u001b[0m\u001b[0mi\u001b[0m\u001b[0;34m]\u001b[0m\u001b[0;34m,\u001b[0m \u001b[0;36m16\u001b[0m\u001b[0;34m)\u001b[0m\u001b[0;34m\u001b[0m\u001b[0m\n\u001b[1;32m      5\u001b[0m     \u001b[0;32mprint\u001b[0m \u001b[0mi\u001b[0m\u001b[0;34m,\u001b[0m \u001b[0;34m':'\u001b[0m\u001b[0;34m,\u001b[0m \u001b[0minfluence_list\u001b[0m\u001b[0;34m[\u001b[0m\u001b[0mi\u001b[0m\u001b[0;34m]\u001b[0m\u001b[0;34m\u001b[0m\u001b[0m\n",
      "\u001b[0;31mNameError\u001b[0m: name 'nc_full_N_width_nodes' is not defined"
     ]
    }
   ],
   "source": [
    "start = time.time()\n",
    "influence_list = {}\n",
    "for i in nc_full_N_width_nodes:\n",
    "    influence_list[i] = influence_function(100, [i], 16)\n",
    "    print i, ':', influence_list[i]\n",
    "sorted_max_potential_nodes = sorted(influence_list.items(), key=lambda x: x[1], reverse=True )\n",
    "\n",
    "print 'max potential node set', sorted_max_potential_nodes[:3]"
   ]
  },
  {
   "cell_type": "code",
   "execution_count": 29,
   "metadata": {
    "collapsed": false
   },
   "outputs": [
    {
     "data": {
      "text/plain": [
       "8964"
      ]
     },
     "execution_count": 29,
     "metadata": {},
     "output_type": "execute_result"
    }
   ],
   "source": [
    "influence_function(100, ['4G68oLRY3aHE5XUt_MUUcA', 'CvMVd31cnTfzMUsHDXm4zQ', 'NzWLMPvbEval0OVg_YDn4g'], 16)"
   ]
  },
  {
   "cell_type": "code",
   "execution_count": 12,
   "metadata": {
    "collapsed": true
   },
   "outputs": [],
   "source": [
    "def cascade(init_nodes, nodes_set_broadcast):#, dist_d):\n",
    "    nodes_set = nodes_set_broadcast.value\n",
    "    action = {}\n",
    "    n = len(init_nodes)\n",
    "    #np.random.seed(random_d)\n",
    "    #init_nodes = np.random.choice(NC_digraph.nodes(), 1)[0]\n",
    "    for i in init_nodes:\n",
    "        action[i] = 1\n",
    "    #st = set()\n",
    "    #st.add(init_nodes)\n",
    "    init_list = zip([0]*len(init_nodes),init_nodes[::])\n",
    "    inter = 0\n",
    "    while len(init_list) != 0:\n",
    "        curr_node = init_list.pop(0)\n",
    "        #print curr_node\n",
    "        for i in nodes_set[curr_node[1]]:\n",
    "            if i not in action:\n",
    "                b = nodes_set.node[i]['review_count']\n",
    "                a =  nodes_set[curr_node[1]][i]['weight']\n",
    "                #np.random.seed(12)\n",
    "                b_dist = np.sqrt(np.random.beta(a = a, b = b))\n",
    "                #np.random.seed(12)\n",
    "                u_dist = np.random.uniform(0,1)\n",
    "                if b_dist > u_dist:\n",
    "                    action[i] = 1\n",
    "                    #st.add(i)\n",
    "                    inter = curr_node[0] + 1\n",
    "                    init_list.append((inter, i))\n",
    "                    n = n + 1\n",
    "    return n\n",
    "\n",
    "def influence_function(N, init_nodes, partition_num):\n",
    "    nodes_set_broadcast = sc.broadcast(nc_full_digraph)\n",
    "    activated_num_rdd = sc.parallelize([init_nodes]*N, partition_num)\n",
    "    activated_num = activated_num_rdd.map(lambda x: cascade(x, nodes_set_broadcast)).reduce(lambda x, y: x+y)\n",
    "    return activated_num/N\n",
    "####################################################################################\n",
    "\n",
    "\n",
    "######################################################################################\n",
    "#\n",
    "#Simulated Annealing Algorithm Implementation\n",
    "#\n",
    "######################################################################################\n",
    "\n",
    "def next_step(X, nodes_set):\n",
    "    tmp = X[0]\n",
    "    while tmp in X:\n",
    "        tmp = np.random.choice(nodes_set)\n",
    "    X[np.random.choice(range(len(X)))] = tmp\n",
    "    return X\n",
    "\n",
    "\n",
    "def simulated_annealing_rst(function, N, partition_num, initial_X, initial_temp, cool, reanneal, iterr, nodes_set):\n",
    "    \n",
    "    accepted = 0\n",
    "    #X = initial_X.copy()\n",
    "    X = initial_X[::]\n",
    "    T = initial_temp\n",
    "    \n",
    "    history = list()\n",
    "    # Evaluate E\n",
    "    prev_E = function(N, X, partition_num)\n",
    "    history.append(prev_E)\n",
    "    \n",
    "    for i in xrange(iterr):\n",
    "        # Propose new path.\n",
    "        X_star = next_step(X, nodes_set)\n",
    "        # Evaluate E\n",
    "        new_E = function(N, X_star, partition_num)\n",
    "        delta_E = new_E - prev_E\n",
    "        \n",
    "        # Flip a coin\n",
    "        U = np.random.uniform()\n",
    "        \n",
    "        if U < np.exp(delta_E / T):\n",
    "            accepted += 1\n",
    "            history.append(new_E)\n",
    "            print 'value:', new_E\n",
    "            # Copy X_star to X\n",
    "            print \"this is\", i, \"iteration\"\n",
    "            #X = X_star.copy()\n",
    "            X = X_star[::]\n",
    "            print 'set:', X\n",
    "            prev_E = new_E\n",
    "        \n",
    "        # Check to cool down\n",
    "        if accepted % reanneal == 0:\n",
    "            T *= cool\n",
    "    return X, history"
   ]
  },
  {
   "cell_type": "code",
   "execution_count": null,
   "metadata": {
    "collapsed": true
   },
   "outputs": [],
   "source": []
  },
  {
   "cell_type": "markdown",
   "metadata": {},
   "source": [
    "#Finding starting temperature"
   ]
  },
  {
   "cell_type": "code",
   "execution_count": null,
   "metadata": {
    "collapsed": true
   },
   "outputs": [],
   "source": [
    "def influence_function_for_finding_T(N, init_nodes, partition_num):\n",
    "    nodes_set_broadcast = sc.broadcast(nc_full_digraph)\n",
    "    activated_num_rdd = sc.parallelize([init_nodes]*N, partition_num)\n",
    "    activated_num = activated_num_rdd.map(lambda x: cascade(x, nodes_set_broadcast)).reduce(lambda x, y: x+y)\n",
    "    return activated_num/N"
   ]
  },
  {
   "cell_type": "code",
   "execution_count": null,
   "metadata": {
    "collapsed": true
   },
   "outputs": [],
   "source": [
    "start = time.time()\n",
    "influence_list = {}\n",
    "for i in top_nodes:\n",
    "    influence_list[i] = cascade([i], nc_full_digraph)\n",
    "    print i, ':', influence_list[i]\n",
    "sorted_max_potential_nodes = sorted(influence_list.items(), key=lambda x: x[1], reverse=True )\n",
    "\n",
    "top_nodeset = sorted_max_potential_nodes[:3]\n",
    "least_nodeset = sorted_max_potential_nodes[:-3]\n",
    "\n",
    "max_influence = influence_function_for_finding_T(1000, top_nodeset, 16)\n",
    "min_influence = influence_function_for_finding_T(1000, least_nodeset, 16)\n",
    "\n",
    "difference_range= max_influence - min_influence"
   ]
  },
  {
   "cell_type": "code",
   "execution_count": null,
   "metadata": {
    "collapsed": true
   },
   "outputs": [],
   "source": []
  }
 ],
 "metadata": {
  "kernelspec": {
   "display_name": "Python 2",
   "language": "python",
   "name": "python2"
  },
  "language_info": {
   "codemirror_mode": {
    "name": "ipython",
    "version": 2
   },
   "file_extension": ".py",
   "mimetype": "text/x-python",
   "name": "python",
   "nbconvert_exporter": "python",
   "pygments_lexer": "ipython2",
   "version": "2.7.10"
  }
 },
 "nbformat": 4,
 "nbformat_minor": 0
}
